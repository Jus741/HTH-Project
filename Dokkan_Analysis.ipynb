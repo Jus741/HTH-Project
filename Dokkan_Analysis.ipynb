{
  "nbformat": 4,
  "nbformat_minor": 0,
  "metadata": {
    "colab": {
      "provenance": []
    },
    "kernelspec": {
      "name": "python3",
      "display_name": "Python 3"
    },
    "language_info": {
      "name": "python"
    }
  },
  "cells": [
    {
      "cell_type": "markdown",
      "source": [
        "To start, I'll set up the environment by getting my imports and mounting the drive so I don't have to re-upload the file with every new runtime."
      ],
      "metadata": {
        "id": "YIt2vHxxahCB"
      }
    },
    {
      "cell_type": "code",
      "execution_count": 1,
      "metadata": {
        "colab": {
          "base_uri": "https://localhost:8080/"
        },
        "id": "tp7ZAs9HUG-S",
        "outputId": "2542a8c6-5120-4be4-af79-69f10dfb0243"
      },
      "outputs": [
        {
          "output_type": "stream",
          "name": "stdout",
          "text": [
            "Mounted at /content/drive\n"
          ]
        }
      ],
      "source": [
        "from google.colab import drive\n",
        "drive.mount('/content/drive')\n",
        "\n",
        "import pandas as pd\n",
        "import numpy as np\n",
        "import matplotlib.pyplot as plt\n",
        "import seaborn as sns\n"
      ]
    },
    {
      "cell_type": "code",
      "source": [
        "df = pd.read_csv('/content/drive/My Drive/Colab Notebooks/Final Project/dokkan_cards.csv')"
      ],
      "metadata": {
        "id": "5hMLswxgrDrQ"
      },
      "execution_count": 2,
      "outputs": []
    },
    {
      "cell_type": "markdown",
      "source": [
        "Let's take a quick peek at what we're working with here."
      ],
      "metadata": {
        "id": "9NexmgUpaw0h"
      }
    },
    {
      "cell_type": "code",
      "source": [
        "df.head()"
      ],
      "metadata": {
        "colab": {
          "base_uri": "https://localhost:8080/",
          "height": 444
        },
        "id": "Bmvx_YRJVN9g",
        "outputId": "10769c3d-68c0-4f88-de33-e49977f2a51b"
      },
      "execution_count": 3,
      "outputs": [
        {
          "output_type": "execute_result",
          "data": {
            "text/plain": [
              "                      Title            Character Max Level SA Level  \\\n",
              "0  Supreme Warrior Awakened    Super Saiyan Goku    80/100     1/10   \n",
              "1            Pride Regained  Super Saiyan Vegeta    80/100     1/10   \n",
              "2       The Saiyan Among Us                 Goku     60/80     1/10   \n",
              "3             Genius of War               Vegeta     60/80     1/10   \n",
              "4       Emperor of Iniquity    Frieza (1st Form)     60/80     1/10   \n",
              "\n",
              "      Rarity                Type   Cost    ID JP Release Date  \\\n",
              "0  SSR to UR    AGL to Super AGL  16/23  1001     30 Jan 2015   \n",
              "1  SSR to UR  TEQ to Extreme TEQ  16/23  1002     30 Jan 2015   \n",
              "2  SR to SSR    STR to Super STR  10/14  1003     30 Jan 2015   \n",
              "3  SR to SSR    TEQ to Super TEQ  10/14  1004     30 Jan 2015   \n",
              "4  SR to SSR  STR to Extreme STR   8/12  1005     30 Jan 2015   \n",
              "\n",
              "    Global Release Date  ... EZA Active Skill Name EZA Active Skill  \\\n",
              "0  Prior to 30 Oct 2015  ...                   NaN              NaN   \n",
              "1  Prior to 30 Oct 2015  ...                   NaN              NaN   \n",
              "2  Prior to 30 Oct 2015  ...                   NaN              NaN   \n",
              "3  Prior to 30 Oct 2015  ...                   NaN              NaN   \n",
              "4  Prior to 30 Oct 2015  ...                   NaN              NaN   \n",
              "\n",
              "  EZA Activation Condition Active Skill Name Active Skill  \\\n",
              "0                      NaN               NaN          NaN   \n",
              "1                      NaN               NaN          NaN   \n",
              "2                      NaN               NaN          NaN   \n",
              "3                      NaN               NaN          NaN   \n",
              "4                      NaN               NaN          NaN   \n",
              "\n",
              "  Activation Condition Unit Super Attack Name Unit Super Attack Effect  \\\n",
              "0                  NaN                    NaN                      NaN   \n",
              "1                  NaN                    NaN                      NaN   \n",
              "2                  NaN                    NaN                      NaN   \n",
              "3                  NaN                    NaN                      NaN   \n",
              "4                  NaN                    NaN                      NaN   \n",
              "\n",
              "  EZA Unit Super Attack Name EZA Unit Super Attack Effect  \n",
              "0                        NaN                          NaN  \n",
              "1                        NaN                          NaN  \n",
              "2                        NaN                          NaN  \n",
              "3                        NaN                          NaN  \n",
              "4                        NaN                          NaN  \n",
              "\n",
              "[5 rows x 50 columns]"
            ],
            "text/html": [
              "\n",
              "  <div id=\"df-fa4a0cad-8df3-48f0-aa40-9d8e55b5c042\" class=\"colab-df-container\">\n",
              "    <div>\n",
              "<style scoped>\n",
              "    .dataframe tbody tr th:only-of-type {\n",
              "        vertical-align: middle;\n",
              "    }\n",
              "\n",
              "    .dataframe tbody tr th {\n",
              "        vertical-align: top;\n",
              "    }\n",
              "\n",
              "    .dataframe thead th {\n",
              "        text-align: right;\n",
              "    }\n",
              "</style>\n",
              "<table border=\"1\" class=\"dataframe\">\n",
              "  <thead>\n",
              "    <tr style=\"text-align: right;\">\n",
              "      <th></th>\n",
              "      <th>Title</th>\n",
              "      <th>Character</th>\n",
              "      <th>Max Level</th>\n",
              "      <th>SA Level</th>\n",
              "      <th>Rarity</th>\n",
              "      <th>Type</th>\n",
              "      <th>Cost</th>\n",
              "      <th>ID</th>\n",
              "      <th>JP Release Date</th>\n",
              "      <th>Global Release Date</th>\n",
              "      <th>...</th>\n",
              "      <th>EZA Active Skill Name</th>\n",
              "      <th>EZA Active Skill</th>\n",
              "      <th>EZA Activation Condition</th>\n",
              "      <th>Active Skill Name</th>\n",
              "      <th>Active Skill</th>\n",
              "      <th>Activation Condition</th>\n",
              "      <th>Unit Super Attack Name</th>\n",
              "      <th>Unit Super Attack Effect</th>\n",
              "      <th>EZA Unit Super Attack Name</th>\n",
              "      <th>EZA Unit Super Attack Effect</th>\n",
              "    </tr>\n",
              "  </thead>\n",
              "  <tbody>\n",
              "    <tr>\n",
              "      <th>0</th>\n",
              "      <td>Supreme Warrior Awakened</td>\n",
              "      <td>Super Saiyan Goku</td>\n",
              "      <td>80/100</td>\n",
              "      <td>1/10</td>\n",
              "      <td>SSR to UR</td>\n",
              "      <td>AGL to Super AGL</td>\n",
              "      <td>16/23</td>\n",
              "      <td>1001</td>\n",
              "      <td>30 Jan 2015</td>\n",
              "      <td>Prior to 30 Oct 2015</td>\n",
              "      <td>...</td>\n",
              "      <td>NaN</td>\n",
              "      <td>NaN</td>\n",
              "      <td>NaN</td>\n",
              "      <td>NaN</td>\n",
              "      <td>NaN</td>\n",
              "      <td>NaN</td>\n",
              "      <td>NaN</td>\n",
              "      <td>NaN</td>\n",
              "      <td>NaN</td>\n",
              "      <td>NaN</td>\n",
              "    </tr>\n",
              "    <tr>\n",
              "      <th>1</th>\n",
              "      <td>Pride Regained</td>\n",
              "      <td>Super Saiyan Vegeta</td>\n",
              "      <td>80/100</td>\n",
              "      <td>1/10</td>\n",
              "      <td>SSR to UR</td>\n",
              "      <td>TEQ to Extreme TEQ</td>\n",
              "      <td>16/23</td>\n",
              "      <td>1002</td>\n",
              "      <td>30 Jan 2015</td>\n",
              "      <td>Prior to 30 Oct 2015</td>\n",
              "      <td>...</td>\n",
              "      <td>NaN</td>\n",
              "      <td>NaN</td>\n",
              "      <td>NaN</td>\n",
              "      <td>NaN</td>\n",
              "      <td>NaN</td>\n",
              "      <td>NaN</td>\n",
              "      <td>NaN</td>\n",
              "      <td>NaN</td>\n",
              "      <td>NaN</td>\n",
              "      <td>NaN</td>\n",
              "    </tr>\n",
              "    <tr>\n",
              "      <th>2</th>\n",
              "      <td>The Saiyan Among Us</td>\n",
              "      <td>Goku</td>\n",
              "      <td>60/80</td>\n",
              "      <td>1/10</td>\n",
              "      <td>SR to SSR</td>\n",
              "      <td>STR to Super STR</td>\n",
              "      <td>10/14</td>\n",
              "      <td>1003</td>\n",
              "      <td>30 Jan 2015</td>\n",
              "      <td>Prior to 30 Oct 2015</td>\n",
              "      <td>...</td>\n",
              "      <td>NaN</td>\n",
              "      <td>NaN</td>\n",
              "      <td>NaN</td>\n",
              "      <td>NaN</td>\n",
              "      <td>NaN</td>\n",
              "      <td>NaN</td>\n",
              "      <td>NaN</td>\n",
              "      <td>NaN</td>\n",
              "      <td>NaN</td>\n",
              "      <td>NaN</td>\n",
              "    </tr>\n",
              "    <tr>\n",
              "      <th>3</th>\n",
              "      <td>Genius of War</td>\n",
              "      <td>Vegeta</td>\n",
              "      <td>60/80</td>\n",
              "      <td>1/10</td>\n",
              "      <td>SR to SSR</td>\n",
              "      <td>TEQ to Super TEQ</td>\n",
              "      <td>10/14</td>\n",
              "      <td>1004</td>\n",
              "      <td>30 Jan 2015</td>\n",
              "      <td>Prior to 30 Oct 2015</td>\n",
              "      <td>...</td>\n",
              "      <td>NaN</td>\n",
              "      <td>NaN</td>\n",
              "      <td>NaN</td>\n",
              "      <td>NaN</td>\n",
              "      <td>NaN</td>\n",
              "      <td>NaN</td>\n",
              "      <td>NaN</td>\n",
              "      <td>NaN</td>\n",
              "      <td>NaN</td>\n",
              "      <td>NaN</td>\n",
              "    </tr>\n",
              "    <tr>\n",
              "      <th>4</th>\n",
              "      <td>Emperor of Iniquity</td>\n",
              "      <td>Frieza (1st Form)</td>\n",
              "      <td>60/80</td>\n",
              "      <td>1/10</td>\n",
              "      <td>SR to SSR</td>\n",
              "      <td>STR to Extreme STR</td>\n",
              "      <td>8/12</td>\n",
              "      <td>1005</td>\n",
              "      <td>30 Jan 2015</td>\n",
              "      <td>Prior to 30 Oct 2015</td>\n",
              "      <td>...</td>\n",
              "      <td>NaN</td>\n",
              "      <td>NaN</td>\n",
              "      <td>NaN</td>\n",
              "      <td>NaN</td>\n",
              "      <td>NaN</td>\n",
              "      <td>NaN</td>\n",
              "      <td>NaN</td>\n",
              "      <td>NaN</td>\n",
              "      <td>NaN</td>\n",
              "      <td>NaN</td>\n",
              "    </tr>\n",
              "  </tbody>\n",
              "</table>\n",
              "<p>5 rows × 50 columns</p>\n",
              "</div>\n",
              "    <div class=\"colab-df-buttons\">\n",
              "\n",
              "  <div class=\"colab-df-container\">\n",
              "    <button class=\"colab-df-convert\" onclick=\"convertToInteractive('df-fa4a0cad-8df3-48f0-aa40-9d8e55b5c042')\"\n",
              "            title=\"Convert this dataframe to an interactive table.\"\n",
              "            style=\"display:none;\">\n",
              "\n",
              "  <svg xmlns=\"http://www.w3.org/2000/svg\" height=\"24px\" viewBox=\"0 -960 960 960\">\n",
              "    <path d=\"M120-120v-720h720v720H120Zm60-500h600v-160H180v160Zm220 220h160v-160H400v160Zm0 220h160v-160H400v160ZM180-400h160v-160H180v160Zm440 0h160v-160H620v160ZM180-180h160v-160H180v160Zm440 0h160v-160H620v160Z\"/>\n",
              "  </svg>\n",
              "    </button>\n",
              "\n",
              "  <style>\n",
              "    .colab-df-container {\n",
              "      display:flex;\n",
              "      gap: 12px;\n",
              "    }\n",
              "\n",
              "    .colab-df-convert {\n",
              "      background-color: #E8F0FE;\n",
              "      border: none;\n",
              "      border-radius: 50%;\n",
              "      cursor: pointer;\n",
              "      display: none;\n",
              "      fill: #1967D2;\n",
              "      height: 32px;\n",
              "      padding: 0 0 0 0;\n",
              "      width: 32px;\n",
              "    }\n",
              "\n",
              "    .colab-df-convert:hover {\n",
              "      background-color: #E2EBFA;\n",
              "      box-shadow: 0px 1px 2px rgba(60, 64, 67, 0.3), 0px 1px 3px 1px rgba(60, 64, 67, 0.15);\n",
              "      fill: #174EA6;\n",
              "    }\n",
              "\n",
              "    .colab-df-buttons div {\n",
              "      margin-bottom: 4px;\n",
              "    }\n",
              "\n",
              "    [theme=dark] .colab-df-convert {\n",
              "      background-color: #3B4455;\n",
              "      fill: #D2E3FC;\n",
              "    }\n",
              "\n",
              "    [theme=dark] .colab-df-convert:hover {\n",
              "      background-color: #434B5C;\n",
              "      box-shadow: 0px 1px 3px 1px rgba(0, 0, 0, 0.15);\n",
              "      filter: drop-shadow(0px 1px 2px rgba(0, 0, 0, 0.3));\n",
              "      fill: #FFFFFF;\n",
              "    }\n",
              "  </style>\n",
              "\n",
              "    <script>\n",
              "      const buttonEl =\n",
              "        document.querySelector('#df-fa4a0cad-8df3-48f0-aa40-9d8e55b5c042 button.colab-df-convert');\n",
              "      buttonEl.style.display =\n",
              "        google.colab.kernel.accessAllowed ? 'block' : 'none';\n",
              "\n",
              "      async function convertToInteractive(key) {\n",
              "        const element = document.querySelector('#df-fa4a0cad-8df3-48f0-aa40-9d8e55b5c042');\n",
              "        const dataTable =\n",
              "          await google.colab.kernel.invokeFunction('convertToInteractive',\n",
              "                                                    [key], {});\n",
              "        if (!dataTable) return;\n",
              "\n",
              "        const docLinkHtml = 'Like what you see? Visit the ' +\n",
              "          '<a target=\"_blank\" href=https://colab.research.google.com/notebooks/data_table.ipynb>data table notebook</a>'\n",
              "          + ' to learn more about interactive tables.';\n",
              "        element.innerHTML = '';\n",
              "        dataTable['output_type'] = 'display_data';\n",
              "        await google.colab.output.renderOutput(dataTable, element);\n",
              "        const docLink = document.createElement('div');\n",
              "        docLink.innerHTML = docLinkHtml;\n",
              "        element.appendChild(docLink);\n",
              "      }\n",
              "    </script>\n",
              "  </div>\n",
              "\n",
              "\n",
              "<div id=\"df-d8b142f2-2747-4fe8-b1f0-cbc0bd0feb36\">\n",
              "  <button class=\"colab-df-quickchart\" onclick=\"quickchart('df-d8b142f2-2747-4fe8-b1f0-cbc0bd0feb36')\"\n",
              "            title=\"Suggest charts\"\n",
              "            style=\"display:none;\">\n",
              "\n",
              "<svg xmlns=\"http://www.w3.org/2000/svg\" height=\"24px\"viewBox=\"0 0 24 24\"\n",
              "     width=\"24px\">\n",
              "    <g>\n",
              "        <path d=\"M19 3H5c-1.1 0-2 .9-2 2v14c0 1.1.9 2 2 2h14c1.1 0 2-.9 2-2V5c0-1.1-.9-2-2-2zM9 17H7v-7h2v7zm4 0h-2V7h2v10zm4 0h-2v-4h2v4z\"/>\n",
              "    </g>\n",
              "</svg>\n",
              "  </button>\n",
              "\n",
              "<style>\n",
              "  .colab-df-quickchart {\n",
              "      --bg-color: #E8F0FE;\n",
              "      --fill-color: #1967D2;\n",
              "      --hover-bg-color: #E2EBFA;\n",
              "      --hover-fill-color: #174EA6;\n",
              "      --disabled-fill-color: #AAA;\n",
              "      --disabled-bg-color: #DDD;\n",
              "  }\n",
              "\n",
              "  [theme=dark] .colab-df-quickchart {\n",
              "      --bg-color: #3B4455;\n",
              "      --fill-color: #D2E3FC;\n",
              "      --hover-bg-color: #434B5C;\n",
              "      --hover-fill-color: #FFFFFF;\n",
              "      --disabled-bg-color: #3B4455;\n",
              "      --disabled-fill-color: #666;\n",
              "  }\n",
              "\n",
              "  .colab-df-quickchart {\n",
              "    background-color: var(--bg-color);\n",
              "    border: none;\n",
              "    border-radius: 50%;\n",
              "    cursor: pointer;\n",
              "    display: none;\n",
              "    fill: var(--fill-color);\n",
              "    height: 32px;\n",
              "    padding: 0;\n",
              "    width: 32px;\n",
              "  }\n",
              "\n",
              "  .colab-df-quickchart:hover {\n",
              "    background-color: var(--hover-bg-color);\n",
              "    box-shadow: 0 1px 2px rgba(60, 64, 67, 0.3), 0 1px 3px 1px rgba(60, 64, 67, 0.15);\n",
              "    fill: var(--button-hover-fill-color);\n",
              "  }\n",
              "\n",
              "  .colab-df-quickchart-complete:disabled,\n",
              "  .colab-df-quickchart-complete:disabled:hover {\n",
              "    background-color: var(--disabled-bg-color);\n",
              "    fill: var(--disabled-fill-color);\n",
              "    box-shadow: none;\n",
              "  }\n",
              "\n",
              "  .colab-df-spinner {\n",
              "    border: 2px solid var(--fill-color);\n",
              "    border-color: transparent;\n",
              "    border-bottom-color: var(--fill-color);\n",
              "    animation:\n",
              "      spin 1s steps(1) infinite;\n",
              "  }\n",
              "\n",
              "  @keyframes spin {\n",
              "    0% {\n",
              "      border-color: transparent;\n",
              "      border-bottom-color: var(--fill-color);\n",
              "      border-left-color: var(--fill-color);\n",
              "    }\n",
              "    20% {\n",
              "      border-color: transparent;\n",
              "      border-left-color: var(--fill-color);\n",
              "      border-top-color: var(--fill-color);\n",
              "    }\n",
              "    30% {\n",
              "      border-color: transparent;\n",
              "      border-left-color: var(--fill-color);\n",
              "      border-top-color: var(--fill-color);\n",
              "      border-right-color: var(--fill-color);\n",
              "    }\n",
              "    40% {\n",
              "      border-color: transparent;\n",
              "      border-right-color: var(--fill-color);\n",
              "      border-top-color: var(--fill-color);\n",
              "    }\n",
              "    60% {\n",
              "      border-color: transparent;\n",
              "      border-right-color: var(--fill-color);\n",
              "    }\n",
              "    80% {\n",
              "      border-color: transparent;\n",
              "      border-right-color: var(--fill-color);\n",
              "      border-bottom-color: var(--fill-color);\n",
              "    }\n",
              "    90% {\n",
              "      border-color: transparent;\n",
              "      border-bottom-color: var(--fill-color);\n",
              "    }\n",
              "  }\n",
              "</style>\n",
              "\n",
              "  <script>\n",
              "    async function quickchart(key) {\n",
              "      const quickchartButtonEl =\n",
              "        document.querySelector('#' + key + ' button');\n",
              "      quickchartButtonEl.disabled = true;  // To prevent multiple clicks.\n",
              "      quickchartButtonEl.classList.add('colab-df-spinner');\n",
              "      try {\n",
              "        const charts = await google.colab.kernel.invokeFunction(\n",
              "            'suggestCharts', [key], {});\n",
              "      } catch (error) {\n",
              "        console.error('Error during call to suggestCharts:', error);\n",
              "      }\n",
              "      quickchartButtonEl.classList.remove('colab-df-spinner');\n",
              "      quickchartButtonEl.classList.add('colab-df-quickchart-complete');\n",
              "    }\n",
              "    (() => {\n",
              "      let quickchartButtonEl =\n",
              "        document.querySelector('#df-d8b142f2-2747-4fe8-b1f0-cbc0bd0feb36 button');\n",
              "      quickchartButtonEl.style.display =\n",
              "        google.colab.kernel.accessAllowed ? 'block' : 'none';\n",
              "    })();\n",
              "  </script>\n",
              "</div>\n",
              "\n",
              "    </div>\n",
              "  </div>\n"
            ],
            "application/vnd.google.colaboratory.intrinsic+json": {
              "type": "dataframe",
              "variable_name": "df"
            }
          },
          "metadata": {},
          "execution_count": 3
        }
      ]
    },
    {
      "cell_type": "code",
      "source": [
        "df.count()"
      ],
      "metadata": {
        "colab": {
          "base_uri": "https://localhost:8080/",
          "height": 1000
        },
        "id": "ijDVytj1WWTm",
        "outputId": "8aa655bd-238f-428a-dfc3-72aa59985d8f"
      },
      "execution_count": 4,
      "outputs": [
        {
          "output_type": "execute_result",
          "data": {
            "text/plain": [
              "Title                            2281\n",
              "Character                        2281\n",
              "Max Level                        2105\n",
              "SA Level                         2087\n",
              "Rarity                           2278\n",
              "Type                             2281\n",
              "Cost                             2105\n",
              "ID                               2281\n",
              "JP Release Date                  2081\n",
              "Global Release Date              2057\n",
              "Special Skills                   2036\n",
              "Leader Skill                     2069\n",
              "Super Attack Name                1793\n",
              "Super Attack Effect              1803\n",
              "Passive Skill Name               2024\n",
              "Passive Skill                    1761\n",
              "Links                            2105\n",
              "Categories                       2086\n",
              "HP                               2105\n",
              "Attack                           2105\n",
              "Defense                          2105\n",
              "Details                          2105\n",
              "References                       1424\n",
              "Transforms Into                   151\n",
              "JP EZA Release Date               294\n",
              "Global EZA Release Date           263\n",
              "EZA Leader Skill                  295\n",
              "EZA Super Attack Name             295\n",
              "EZA Super Attack Effect           295\n",
              "EZA Passive Skill                 295\n",
              "EZA HP                            258\n",
              "EZA Attack                        258\n",
              "EZA Defense                       258\n",
              "Transformation Type                82\n",
              "Transformation Condition           60\n",
              "EZA Transformation Condition       22\n",
              "EZA Ultra Super Attack Name        37\n",
              "EZA Ultra Super Attack Effect      37\n",
              "Ultra Super Attack Name            84\n",
              "Ultra Super Attack Effect          84\n",
              "EZA Active Skill Name              10\n",
              "EZA Active Skill                    6\n",
              "EZA Activation Condition            7\n",
              "Active Skill Name                  76\n",
              "Active Skill                       49\n",
              "Activation Condition               52\n",
              "Unit Super Attack Name              8\n",
              "Unit Super Attack Effect            8\n",
              "EZA Unit Super Attack Name          1\n",
              "EZA Unit Super Attack Effect        1\n",
              "dtype: int64"
            ],
            "text/html": [
              "<div>\n",
              "<style scoped>\n",
              "    .dataframe tbody tr th:only-of-type {\n",
              "        vertical-align: middle;\n",
              "    }\n",
              "\n",
              "    .dataframe tbody tr th {\n",
              "        vertical-align: top;\n",
              "    }\n",
              "\n",
              "    .dataframe thead th {\n",
              "        text-align: right;\n",
              "    }\n",
              "</style>\n",
              "<table border=\"1\" class=\"dataframe\">\n",
              "  <thead>\n",
              "    <tr style=\"text-align: right;\">\n",
              "      <th></th>\n",
              "      <th>0</th>\n",
              "    </tr>\n",
              "  </thead>\n",
              "  <tbody>\n",
              "    <tr>\n",
              "      <th>Title</th>\n",
              "      <td>2281</td>\n",
              "    </tr>\n",
              "    <tr>\n",
              "      <th>Character</th>\n",
              "      <td>2281</td>\n",
              "    </tr>\n",
              "    <tr>\n",
              "      <th>Max Level</th>\n",
              "      <td>2105</td>\n",
              "    </tr>\n",
              "    <tr>\n",
              "      <th>SA Level</th>\n",
              "      <td>2087</td>\n",
              "    </tr>\n",
              "    <tr>\n",
              "      <th>Rarity</th>\n",
              "      <td>2278</td>\n",
              "    </tr>\n",
              "    <tr>\n",
              "      <th>Type</th>\n",
              "      <td>2281</td>\n",
              "    </tr>\n",
              "    <tr>\n",
              "      <th>Cost</th>\n",
              "      <td>2105</td>\n",
              "    </tr>\n",
              "    <tr>\n",
              "      <th>ID</th>\n",
              "      <td>2281</td>\n",
              "    </tr>\n",
              "    <tr>\n",
              "      <th>JP Release Date</th>\n",
              "      <td>2081</td>\n",
              "    </tr>\n",
              "    <tr>\n",
              "      <th>Global Release Date</th>\n",
              "      <td>2057</td>\n",
              "    </tr>\n",
              "    <tr>\n",
              "      <th>Special Skills</th>\n",
              "      <td>2036</td>\n",
              "    </tr>\n",
              "    <tr>\n",
              "      <th>Leader Skill</th>\n",
              "      <td>2069</td>\n",
              "    </tr>\n",
              "    <tr>\n",
              "      <th>Super Attack Name</th>\n",
              "      <td>1793</td>\n",
              "    </tr>\n",
              "    <tr>\n",
              "      <th>Super Attack Effect</th>\n",
              "      <td>1803</td>\n",
              "    </tr>\n",
              "    <tr>\n",
              "      <th>Passive Skill Name</th>\n",
              "      <td>2024</td>\n",
              "    </tr>\n",
              "    <tr>\n",
              "      <th>Passive Skill</th>\n",
              "      <td>1761</td>\n",
              "    </tr>\n",
              "    <tr>\n",
              "      <th>Links</th>\n",
              "      <td>2105</td>\n",
              "    </tr>\n",
              "    <tr>\n",
              "      <th>Categories</th>\n",
              "      <td>2086</td>\n",
              "    </tr>\n",
              "    <tr>\n",
              "      <th>HP</th>\n",
              "      <td>2105</td>\n",
              "    </tr>\n",
              "    <tr>\n",
              "      <th>Attack</th>\n",
              "      <td>2105</td>\n",
              "    </tr>\n",
              "    <tr>\n",
              "      <th>Defense</th>\n",
              "      <td>2105</td>\n",
              "    </tr>\n",
              "    <tr>\n",
              "      <th>Details</th>\n",
              "      <td>2105</td>\n",
              "    </tr>\n",
              "    <tr>\n",
              "      <th>References</th>\n",
              "      <td>1424</td>\n",
              "    </tr>\n",
              "    <tr>\n",
              "      <th>Transforms Into</th>\n",
              "      <td>151</td>\n",
              "    </tr>\n",
              "    <tr>\n",
              "      <th>JP EZA Release Date</th>\n",
              "      <td>294</td>\n",
              "    </tr>\n",
              "    <tr>\n",
              "      <th>Global EZA Release Date</th>\n",
              "      <td>263</td>\n",
              "    </tr>\n",
              "    <tr>\n",
              "      <th>EZA Leader Skill</th>\n",
              "      <td>295</td>\n",
              "    </tr>\n",
              "    <tr>\n",
              "      <th>EZA Super Attack Name</th>\n",
              "      <td>295</td>\n",
              "    </tr>\n",
              "    <tr>\n",
              "      <th>EZA Super Attack Effect</th>\n",
              "      <td>295</td>\n",
              "    </tr>\n",
              "    <tr>\n",
              "      <th>EZA Passive Skill</th>\n",
              "      <td>295</td>\n",
              "    </tr>\n",
              "    <tr>\n",
              "      <th>EZA HP</th>\n",
              "      <td>258</td>\n",
              "    </tr>\n",
              "    <tr>\n",
              "      <th>EZA Attack</th>\n",
              "      <td>258</td>\n",
              "    </tr>\n",
              "    <tr>\n",
              "      <th>EZA Defense</th>\n",
              "      <td>258</td>\n",
              "    </tr>\n",
              "    <tr>\n",
              "      <th>Transformation Type</th>\n",
              "      <td>82</td>\n",
              "    </tr>\n",
              "    <tr>\n",
              "      <th>Transformation Condition</th>\n",
              "      <td>60</td>\n",
              "    </tr>\n",
              "    <tr>\n",
              "      <th>EZA Transformation Condition</th>\n",
              "      <td>22</td>\n",
              "    </tr>\n",
              "    <tr>\n",
              "      <th>EZA Ultra Super Attack Name</th>\n",
              "      <td>37</td>\n",
              "    </tr>\n",
              "    <tr>\n",
              "      <th>EZA Ultra Super Attack Effect</th>\n",
              "      <td>37</td>\n",
              "    </tr>\n",
              "    <tr>\n",
              "      <th>Ultra Super Attack Name</th>\n",
              "      <td>84</td>\n",
              "    </tr>\n",
              "    <tr>\n",
              "      <th>Ultra Super Attack Effect</th>\n",
              "      <td>84</td>\n",
              "    </tr>\n",
              "    <tr>\n",
              "      <th>EZA Active Skill Name</th>\n",
              "      <td>10</td>\n",
              "    </tr>\n",
              "    <tr>\n",
              "      <th>EZA Active Skill</th>\n",
              "      <td>6</td>\n",
              "    </tr>\n",
              "    <tr>\n",
              "      <th>EZA Activation Condition</th>\n",
              "      <td>7</td>\n",
              "    </tr>\n",
              "    <tr>\n",
              "      <th>Active Skill Name</th>\n",
              "      <td>76</td>\n",
              "    </tr>\n",
              "    <tr>\n",
              "      <th>Active Skill</th>\n",
              "      <td>49</td>\n",
              "    </tr>\n",
              "    <tr>\n",
              "      <th>Activation Condition</th>\n",
              "      <td>52</td>\n",
              "    </tr>\n",
              "    <tr>\n",
              "      <th>Unit Super Attack Name</th>\n",
              "      <td>8</td>\n",
              "    </tr>\n",
              "    <tr>\n",
              "      <th>Unit Super Attack Effect</th>\n",
              "      <td>8</td>\n",
              "    </tr>\n",
              "    <tr>\n",
              "      <th>EZA Unit Super Attack Name</th>\n",
              "      <td>1</td>\n",
              "    </tr>\n",
              "    <tr>\n",
              "      <th>EZA Unit Super Attack Effect</th>\n",
              "      <td>1</td>\n",
              "    </tr>\n",
              "  </tbody>\n",
              "</table>\n",
              "</div><br><label><b>dtype:</b> int64</label>"
            ]
          },
          "metadata": {},
          "execution_count": 4
        }
      ]
    },
    {
      "cell_type": "markdown",
      "source": [
        "There's a lot of extra columns here that will get in the way of what I want to accomplish with this analysis so I'm going to disregard a lot of the new features like transformations, active skills, and unit super attacks. I'll also be getting rid of most of the EZA details since we only need to know if a unit has one or not for the purpose of this analysis."
      ],
      "metadata": {
        "id": "e06zqvShcsem"
      }
    },
    {
      "cell_type": "code",
      "source": [
        "df_clean = df.drop(columns = ['Title', 'SA Level', 'Leader Skill', 'Super Attack Name', 'Super Attack Effect', 'Passive Skill Name', 'Passive Skill', 'Links', 'HP', 'Attack', 'Defense', 'Details', 'Ultra Super Attack Name', 'Ultra Super Attack Effect', 'Special Skills', 'References', 'Active Skill Name', 'Active Skill', 'Activation Condition', 'Unit Super Attack Name', 'Unit Super Attack Effect', 'Transforms Into', 'JP EZA Release Date', 'Global EZA Release Date', 'EZA Leader Skill', 'EZA Super Attack Name', 'EZA Super Attack Effect', 'EZA Passive Skill','EZA HP', 'EZA Attack', 'EZA Defense', 'EZA Transformation Condition', 'EZA Ultra Super Attack Name', 'EZA Ultra Super Attack Effect', 'EZA Active Skill Name', 'EZA Active Skill', 'EZA Activation Condition','EZA Unit Super Attack Name', 'EZA Unit Super Attack Effect', 'Transformation Type', 'Transformation Condition', 'EZA Transformation Condition'])\n",
        "df_clean.count()"
      ],
      "metadata": {
        "colab": {
          "base_uri": "https://localhost:8080/",
          "height": 366
        },
        "id": "reZaSlKmWbxw",
        "outputId": "e13c3c91-0026-4337-dcf7-bbba82d610a8"
      },
      "execution_count": 5,
      "outputs": [
        {
          "output_type": "execute_result",
          "data": {
            "text/plain": [
              "Character              2281\n",
              "Max Level              2105\n",
              "Rarity                 2278\n",
              "Type                   2281\n",
              "Cost                   2105\n",
              "ID                     2281\n",
              "JP Release Date        2081\n",
              "Global Release Date    2057\n",
              "Categories             2086\n",
              "dtype: int64"
            ],
            "text/html": [
              "<div>\n",
              "<style scoped>\n",
              "    .dataframe tbody tr th:only-of-type {\n",
              "        vertical-align: middle;\n",
              "    }\n",
              "\n",
              "    .dataframe tbody tr th {\n",
              "        vertical-align: top;\n",
              "    }\n",
              "\n",
              "    .dataframe thead th {\n",
              "        text-align: right;\n",
              "    }\n",
              "</style>\n",
              "<table border=\"1\" class=\"dataframe\">\n",
              "  <thead>\n",
              "    <tr style=\"text-align: right;\">\n",
              "      <th></th>\n",
              "      <th>0</th>\n",
              "    </tr>\n",
              "  </thead>\n",
              "  <tbody>\n",
              "    <tr>\n",
              "      <th>Character</th>\n",
              "      <td>2281</td>\n",
              "    </tr>\n",
              "    <tr>\n",
              "      <th>Max Level</th>\n",
              "      <td>2105</td>\n",
              "    </tr>\n",
              "    <tr>\n",
              "      <th>Rarity</th>\n",
              "      <td>2278</td>\n",
              "    </tr>\n",
              "    <tr>\n",
              "      <th>Type</th>\n",
              "      <td>2281</td>\n",
              "    </tr>\n",
              "    <tr>\n",
              "      <th>Cost</th>\n",
              "      <td>2105</td>\n",
              "    </tr>\n",
              "    <tr>\n",
              "      <th>ID</th>\n",
              "      <td>2281</td>\n",
              "    </tr>\n",
              "    <tr>\n",
              "      <th>JP Release Date</th>\n",
              "      <td>2081</td>\n",
              "    </tr>\n",
              "    <tr>\n",
              "      <th>Global Release Date</th>\n",
              "      <td>2057</td>\n",
              "    </tr>\n",
              "    <tr>\n",
              "      <th>Categories</th>\n",
              "      <td>2086</td>\n",
              "    </tr>\n",
              "  </tbody>\n",
              "</table>\n",
              "</div><br><label><b>dtype:</b> int64</label>"
            ]
          },
          "metadata": {},
          "execution_count": 5
        }
      ]
    },
    {
      "cell_type": "markdown",
      "source": [
        "Now let's get rid of all entries of transitional forms of units. This means we'll only be working with the final version of each card after awakening."
      ],
      "metadata": {
        "id": "NIioTAzfVttj"
      }
    },
    {
      "cell_type": "code",
      "source": [
        "df_cleaned = df_clean.copy()\n",
        "df_cleaned = df_cleaned.dropna(subset=['Max Level', 'JP Release Date', 'Global Release Date', 'Categories', 'Rarity'])\n",
        "df_cleaned.count()"
      ],
      "metadata": {
        "colab": {
          "base_uri": "https://localhost:8080/",
          "height": 366
        },
        "id": "0Ho4RDbhZB_l",
        "outputId": "7f17a2f1-36d3-4292-9f51-bf9782ac5456"
      },
      "execution_count": 6,
      "outputs": [
        {
          "output_type": "execute_result",
          "data": {
            "text/plain": [
              "Character              2014\n",
              "Max Level              2014\n",
              "Rarity                 2014\n",
              "Type                   2014\n",
              "Cost                   2014\n",
              "ID                     2014\n",
              "JP Release Date        2014\n",
              "Global Release Date    2014\n",
              "Categories             2014\n",
              "dtype: int64"
            ],
            "text/html": [
              "<div>\n",
              "<style scoped>\n",
              "    .dataframe tbody tr th:only-of-type {\n",
              "        vertical-align: middle;\n",
              "    }\n",
              "\n",
              "    .dataframe tbody tr th {\n",
              "        vertical-align: top;\n",
              "    }\n",
              "\n",
              "    .dataframe thead th {\n",
              "        text-align: right;\n",
              "    }\n",
              "</style>\n",
              "<table border=\"1\" class=\"dataframe\">\n",
              "  <thead>\n",
              "    <tr style=\"text-align: right;\">\n",
              "      <th></th>\n",
              "      <th>0</th>\n",
              "    </tr>\n",
              "  </thead>\n",
              "  <tbody>\n",
              "    <tr>\n",
              "      <th>Character</th>\n",
              "      <td>2014</td>\n",
              "    </tr>\n",
              "    <tr>\n",
              "      <th>Max Level</th>\n",
              "      <td>2014</td>\n",
              "    </tr>\n",
              "    <tr>\n",
              "      <th>Rarity</th>\n",
              "      <td>2014</td>\n",
              "    </tr>\n",
              "    <tr>\n",
              "      <th>Type</th>\n",
              "      <td>2014</td>\n",
              "    </tr>\n",
              "    <tr>\n",
              "      <th>Cost</th>\n",
              "      <td>2014</td>\n",
              "    </tr>\n",
              "    <tr>\n",
              "      <th>ID</th>\n",
              "      <td>2014</td>\n",
              "    </tr>\n",
              "    <tr>\n",
              "      <th>JP Release Date</th>\n",
              "      <td>2014</td>\n",
              "    </tr>\n",
              "    <tr>\n",
              "      <th>Global Release Date</th>\n",
              "      <td>2014</td>\n",
              "    </tr>\n",
              "    <tr>\n",
              "      <th>Categories</th>\n",
              "      <td>2014</td>\n",
              "    </tr>\n",
              "  </tbody>\n",
              "</table>\n",
              "</div><br><label><b>dtype:</b> int64</label>"
            ]
          },
          "metadata": {},
          "execution_count": 6
        }
      ]
    },
    {
      "cell_type": "markdown",
      "source": [
        "Let's also change the entries for rarity since regular awakening doesn't change base rarity. We'll also also fix the typing here since every card here is, or becomes, Super/Extreme. Also also ALSO, we'll just say all cards released before October 30th of 2015 were released on that date for uniformity and simplicity."
      ],
      "metadata": {
        "id": "_Wv4Hu54dJFa"
      }
    },
    {
      "cell_type": "code",
      "source": [
        "rarity_mapping = {\n",
        "    'N to R': 'N',\n",
        "    'R to SR': 'R',\n",
        "    'SR to SSR': 'SR',\n",
        "    'SSR to UR': 'SSR'\n",
        "}\n",
        "\n",
        "df_cleaned.loc[:, 'Rarity'] = df_cleaned['Rarity'].replace(rarity_mapping)\n",
        "df_cleaned.loc[:, 'Type'] = df_cleaned['Type'].str.split(' to ').str[-1]\n",
        "df_cleaned.loc[:, 'Global Release Date'] = df_cleaned['Global Release Date'].str.split(' to ').str[-1]\n",
        "df_cleaned.loc[:, 'Max Level'] = df_cleaned['Max Level'].str.split('/').str[0].astype(int)"
      ],
      "metadata": {
        "id": "PHPyutQudHWQ"
      },
      "execution_count": 7,
      "outputs": []
    },
    {
      "cell_type": "markdown",
      "source": [
        "Now that the data has been cleaned, let's get to answering the questions I had laid out starting with what character has the most units in the game. (hint: he might be really important in the series)"
      ],
      "metadata": {
        "id": "unJWAJjlWU_0"
      }
    },
    {
      "cell_type": "code",
      "source": [
        "character_counts = df_cleaned['Character'].value_counts()\n",
        "character_counts"
      ],
      "metadata": {
        "colab": {
          "base_uri": "https://localhost:8080/",
          "height": 490
        },
        "id": "N3higZ4ndeFK",
        "outputId": "dc519f79-aa71-40c6-ceb8-e38c87b436f6"
      },
      "execution_count": 8,
      "outputs": [
        {
          "output_type": "execute_result",
          "data": {
            "text/plain": [
              "Character\n",
              "Super Saiyan Goku                        44\n",
              "Goku                                     36\n",
              "Vegeta                                   27\n",
              "Piccolo                                  27\n",
              "Krillin                                  23\n",
              "                                         ..\n",
              "Trunks (Teen) (Future) & Mai (Future)     1\n",
              "Grand Supreme Kai                         1\n",
              "Kibito                                    1\n",
              "Metal Cooler Army                         1\n",
              "Daiz                                      1\n",
              "Name: count, Length: 553, dtype: int64"
            ],
            "text/html": [
              "<div>\n",
              "<style scoped>\n",
              "    .dataframe tbody tr th:only-of-type {\n",
              "        vertical-align: middle;\n",
              "    }\n",
              "\n",
              "    .dataframe tbody tr th {\n",
              "        vertical-align: top;\n",
              "    }\n",
              "\n",
              "    .dataframe thead th {\n",
              "        text-align: right;\n",
              "    }\n",
              "</style>\n",
              "<table border=\"1\" class=\"dataframe\">\n",
              "  <thead>\n",
              "    <tr style=\"text-align: right;\">\n",
              "      <th></th>\n",
              "      <th>count</th>\n",
              "    </tr>\n",
              "    <tr>\n",
              "      <th>Character</th>\n",
              "      <th></th>\n",
              "    </tr>\n",
              "  </thead>\n",
              "  <tbody>\n",
              "    <tr>\n",
              "      <th>Super Saiyan Goku</th>\n",
              "      <td>44</td>\n",
              "    </tr>\n",
              "    <tr>\n",
              "      <th>Goku</th>\n",
              "      <td>36</td>\n",
              "    </tr>\n",
              "    <tr>\n",
              "      <th>Vegeta</th>\n",
              "      <td>27</td>\n",
              "    </tr>\n",
              "    <tr>\n",
              "      <th>Piccolo</th>\n",
              "      <td>27</td>\n",
              "    </tr>\n",
              "    <tr>\n",
              "      <th>Krillin</th>\n",
              "      <td>23</td>\n",
              "    </tr>\n",
              "    <tr>\n",
              "      <th>...</th>\n",
              "      <td>...</td>\n",
              "    </tr>\n",
              "    <tr>\n",
              "      <th>Trunks (Teen) (Future) &amp; Mai (Future)</th>\n",
              "      <td>1</td>\n",
              "    </tr>\n",
              "    <tr>\n",
              "      <th>Grand Supreme Kai</th>\n",
              "      <td>1</td>\n",
              "    </tr>\n",
              "    <tr>\n",
              "      <th>Kibito</th>\n",
              "      <td>1</td>\n",
              "    </tr>\n",
              "    <tr>\n",
              "      <th>Metal Cooler Army</th>\n",
              "      <td>1</td>\n",
              "    </tr>\n",
              "    <tr>\n",
              "      <th>Daiz</th>\n",
              "      <td>1</td>\n",
              "    </tr>\n",
              "  </tbody>\n",
              "</table>\n",
              "<p>553 rows × 1 columns</p>\n",
              "</div><br><label><b>dtype:</b> int64</label>"
            ]
          },
          "metadata": {},
          "execution_count": 8
        }
      ]
    },
    {
      "cell_type": "markdown",
      "source": [
        "Yep. It's Goku. Super Saiyan Goku specifically. Piccolo and Krillin do come as a surpise though, and Vegeta takes another L today.\n",
        "\n",
        "Next, let's look at the distribution of the cards by rarity. My prediction is that it's mostly URs."
      ],
      "metadata": {
        "id": "XPLlm-ItYk5X"
      }
    },
    {
      "cell_type": "code",
      "source": [
        "rarity_distribution = df_cleaned['Rarity'].value_counts(normalize=True) * 100\n",
        "rarity_distribution"
      ],
      "metadata": {
        "id": "6p4EVhwrnryq",
        "colab": {
          "base_uri": "https://localhost:8080/",
          "height": 304
        },
        "outputId": "9ffce702-c8fc-470c-de68-976a01cf3040"
      },
      "execution_count": 9,
      "outputs": [
        {
          "output_type": "execute_result",
          "data": {
            "text/plain": [
              "Rarity\n",
              "SSR    39.424032\n",
              "UR     35.054618\n",
              "SR     12.363456\n",
              "LR      5.809335\n",
              "R       5.561072\n",
              "N       1.787488\n",
              "Name: proportion, dtype: float64"
            ],
            "text/html": [
              "<div>\n",
              "<style scoped>\n",
              "    .dataframe tbody tr th:only-of-type {\n",
              "        vertical-align: middle;\n",
              "    }\n",
              "\n",
              "    .dataframe tbody tr th {\n",
              "        vertical-align: top;\n",
              "    }\n",
              "\n",
              "    .dataframe thead th {\n",
              "        text-align: right;\n",
              "    }\n",
              "</style>\n",
              "<table border=\"1\" class=\"dataframe\">\n",
              "  <thead>\n",
              "    <tr style=\"text-align: right;\">\n",
              "      <th></th>\n",
              "      <th>proportion</th>\n",
              "    </tr>\n",
              "    <tr>\n",
              "      <th>Rarity</th>\n",
              "      <th></th>\n",
              "    </tr>\n",
              "  </thead>\n",
              "  <tbody>\n",
              "    <tr>\n",
              "      <th>SSR</th>\n",
              "      <td>39.424032</td>\n",
              "    </tr>\n",
              "    <tr>\n",
              "      <th>UR</th>\n",
              "      <td>35.054618</td>\n",
              "    </tr>\n",
              "    <tr>\n",
              "      <th>SR</th>\n",
              "      <td>12.363456</td>\n",
              "    </tr>\n",
              "    <tr>\n",
              "      <th>LR</th>\n",
              "      <td>5.809335</td>\n",
              "    </tr>\n",
              "    <tr>\n",
              "      <th>R</th>\n",
              "      <td>5.561072</td>\n",
              "    </tr>\n",
              "    <tr>\n",
              "      <th>N</th>\n",
              "      <td>1.787488</td>\n",
              "    </tr>\n",
              "  </tbody>\n",
              "</table>\n",
              "</div><br><label><b>dtype:</b> float64</label>"
            ]
          },
          "metadata": {},
          "execution_count": 9
        }
      ]
    },
    {
      "cell_type": "markdown",
      "source": [
        "Wow, mostly SSRs huh? I guess I should've taken into consideration that pretty much all URs come from dokkan awakened SSRs.\n",
        "\n",
        "Now let's look at the type distribution."
      ],
      "metadata": {
        "id": "KH8awtXcdoZm"
      }
    },
    {
      "cell_type": "code",
      "source": [
        "type_distribution = df_cleaned['Type'].value_counts(normalize=True) * 100\n",
        "type_distribution"
      ],
      "metadata": {
        "colab": {
          "base_uri": "https://localhost:8080/",
          "height": 429
        },
        "id": "tXlQ0qW2Qdi8",
        "outputId": "63da315f-9c00-4d0a-88a7-63bdd6ce2fa9"
      },
      "execution_count": 10,
      "outputs": [
        {
          "output_type": "execute_result",
          "data": {
            "text/plain": [
              "Type\n",
              "Super STR      12.711023\n",
              "Super TEQ      12.512413\n",
              "Super AGL      12.264151\n",
              "Super PHY      11.966236\n",
              "Super INT      11.569017\n",
              "Extreme STR     8.142999\n",
              "Extreme AGL     7.994042\n",
              "Extreme PHY     7.845084\n",
              "Extreme INT     7.745780\n",
              "Extreme TEQ     7.249255\n",
              "Name: proportion, dtype: float64"
            ],
            "text/html": [
              "<div>\n",
              "<style scoped>\n",
              "    .dataframe tbody tr th:only-of-type {\n",
              "        vertical-align: middle;\n",
              "    }\n",
              "\n",
              "    .dataframe tbody tr th {\n",
              "        vertical-align: top;\n",
              "    }\n",
              "\n",
              "    .dataframe thead th {\n",
              "        text-align: right;\n",
              "    }\n",
              "</style>\n",
              "<table border=\"1\" class=\"dataframe\">\n",
              "  <thead>\n",
              "    <tr style=\"text-align: right;\">\n",
              "      <th></th>\n",
              "      <th>proportion</th>\n",
              "    </tr>\n",
              "    <tr>\n",
              "      <th>Type</th>\n",
              "      <th></th>\n",
              "    </tr>\n",
              "  </thead>\n",
              "  <tbody>\n",
              "    <tr>\n",
              "      <th>Super STR</th>\n",
              "      <td>12.711023</td>\n",
              "    </tr>\n",
              "    <tr>\n",
              "      <th>Super TEQ</th>\n",
              "      <td>12.512413</td>\n",
              "    </tr>\n",
              "    <tr>\n",
              "      <th>Super AGL</th>\n",
              "      <td>12.264151</td>\n",
              "    </tr>\n",
              "    <tr>\n",
              "      <th>Super PHY</th>\n",
              "      <td>11.966236</td>\n",
              "    </tr>\n",
              "    <tr>\n",
              "      <th>Super INT</th>\n",
              "      <td>11.569017</td>\n",
              "    </tr>\n",
              "    <tr>\n",
              "      <th>Extreme STR</th>\n",
              "      <td>8.142999</td>\n",
              "    </tr>\n",
              "    <tr>\n",
              "      <th>Extreme AGL</th>\n",
              "      <td>7.994042</td>\n",
              "    </tr>\n",
              "    <tr>\n",
              "      <th>Extreme PHY</th>\n",
              "      <td>7.845084</td>\n",
              "    </tr>\n",
              "    <tr>\n",
              "      <th>Extreme INT</th>\n",
              "      <td>7.745780</td>\n",
              "    </tr>\n",
              "    <tr>\n",
              "      <th>Extreme TEQ</th>\n",
              "      <td>7.249255</td>\n",
              "    </tr>\n",
              "  </tbody>\n",
              "</table>\n",
              "</div><br><label><b>dtype:</b> float64</label>"
            ]
          },
          "metadata": {},
          "execution_count": 10
        }
      ]
    },
    {
      "cell_type": "markdown",
      "source": [
        "Distribution is mostly even across the typings. The only difference here is the disparity between Super and Extreme types. I guess it's to be expected that the heros are more popular than the villians though.\n",
        "\n",
        "Let's take a look at the relationship between rarity and max level."
      ],
      "metadata": {
        "id": "o8UMwrIXimhL"
      }
    },
    {
      "cell_type": "code",
      "source": [
        "correlation = df_cleaned[['Rarity', 'Max Level']]\n",
        "correlation.groupby('Rarity')['Max Level'].mean()"
      ],
      "metadata": {
        "colab": {
          "base_uri": "https://localhost:8080/",
          "height": 304
        },
        "id": "4BjnQLdZfaL5",
        "outputId": "ed0abb2e-276f-416c-b3dd-3413d677a609"
      },
      "execution_count": 11,
      "outputs": [
        {
          "output_type": "execute_result",
          "data": {
            "text/plain": [
              "Rarity\n",
              "LR     150.0\n",
              "N       20.0\n",
              "R       40.0\n",
              "SR      60.0\n",
              "SSR     80.0\n",
              "UR     120.0\n",
              "Name: Max Level, dtype: object"
            ],
            "text/html": [
              "<div>\n",
              "<style scoped>\n",
              "    .dataframe tbody tr th:only-of-type {\n",
              "        vertical-align: middle;\n",
              "    }\n",
              "\n",
              "    .dataframe tbody tr th {\n",
              "        vertical-align: top;\n",
              "    }\n",
              "\n",
              "    .dataframe thead th {\n",
              "        text-align: right;\n",
              "    }\n",
              "</style>\n",
              "<table border=\"1\" class=\"dataframe\">\n",
              "  <thead>\n",
              "    <tr style=\"text-align: right;\">\n",
              "      <th></th>\n",
              "      <th>Max Level</th>\n",
              "    </tr>\n",
              "    <tr>\n",
              "      <th>Rarity</th>\n",
              "      <th></th>\n",
              "    </tr>\n",
              "  </thead>\n",
              "  <tbody>\n",
              "    <tr>\n",
              "      <th>LR</th>\n",
              "      <td>150.0</td>\n",
              "    </tr>\n",
              "    <tr>\n",
              "      <th>N</th>\n",
              "      <td>20.0</td>\n",
              "    </tr>\n",
              "    <tr>\n",
              "      <th>R</th>\n",
              "      <td>40.0</td>\n",
              "    </tr>\n",
              "    <tr>\n",
              "      <th>SR</th>\n",
              "      <td>60.0</td>\n",
              "    </tr>\n",
              "    <tr>\n",
              "      <th>SSR</th>\n",
              "      <td>80.0</td>\n",
              "    </tr>\n",
              "    <tr>\n",
              "      <th>UR</th>\n",
              "      <td>120.0</td>\n",
              "    </tr>\n",
              "  </tbody>\n",
              "</table>\n",
              "</div><br><label><b>dtype:</b> object</label>"
            ]
          },
          "metadata": {},
          "execution_count": 11
        }
      ]
    },
    {
      "cell_type": "markdown",
      "source": [
        "For those unfamiliar with Dokkan Battle, the max level is one to one with rarity and usually does not vary. The max level for LRs will always be 150 for example.\n",
        "The only exception is for EZAs where the max level for URs raises by 20.\n",
        "\n",
        "Lastly, let's find out the average amount of time it takes for a unit released on JP to come to Global."
      ],
      "metadata": {
        "id": "zveO70PVkkCk"
      }
    },
    {
      "cell_type": "code",
      "source": [
        "df_cleaned['JP Release Date'] = pd.to_datetime(df_cleaned['JP Release Date'], errors='coerce')\n",
        "df_cleaned['Global Release Date'] = pd.to_datetime(df_cleaned['Global Release Date'], errors='coerce')\n",
        "\n",
        "df_cleaned['Release Delay'] = (df_cleaned['Global Release Date'] - df_cleaned['JP Release Date']).dt.days\n",
        "\n",
        "df_cleaned = df_cleaned.dropna(subset=['Release Delay'])\n",
        "\n",
        "average_delay = df_cleaned['Release Delay'].mean()\n",
        "average_delay"
      ],
      "metadata": {
        "id": "RIrdcfwfi19l",
        "colab": {
          "base_uri": "https://localhost:8080/"
        },
        "outputId": "f202bb17-a97c-44c7-cff6-da1e77d63ced"
      },
      "execution_count": 12,
      "outputs": [
        {
          "output_type": "execute_result",
          "data": {
            "text/plain": [
              "131.95034756703078"
            ]
          },
          "metadata": {},
          "execution_count": 12
        }
      ]
    },
    {
      "cell_type": "markdown",
      "source": [
        "A third of the year sounds about right... a bit on the lower end of what I had predicted actually. It's a good thing that they plan to sync the servers soon."
      ],
      "metadata": {
        "id": "-CBKLyasMpMV"
      }
    },
    {
      "cell_type": "markdown",
      "source": [
        "Alright, time to put this data on charts."
      ],
      "metadata": {
        "id": "Qh8i9QSVVDxk"
      }
    },
    {
      "cell_type": "code",
      "source": [
        "plt.figure(figsize=(10, 6))\n",
        "character_counts.head(10).plot(kind='bar')\n",
        "plt.title('Top 10 Characters with the Most Units')\n",
        "plt.xlabel('Character')\n",
        "plt.ylabel('Number of Units')\n",
        "plt.xticks(rotation=45, ha='right')\n",
        "plt.grid(axis='y')\n",
        "plt.tight_layout()\n",
        "plt.show()"
      ],
      "metadata": {
        "id": "uRjB7_y4jGK1",
        "colab": {
          "base_uri": "https://localhost:8080/",
          "height": 607
        },
        "outputId": "70c600f8-6be9-40ca-a209-b124a90eb91b"
      },
      "execution_count": 164,
      "outputs": [
        {
          "output_type": "display_data",
          "data": {
            "text/plain": [
              "<Figure size 1000x600 with 1 Axes>"
            ],
            "image/png": "[encoded data removed]"
          },
          "metadata": {}
        }
      ]
    },
    {
      "cell_type": "code",
      "source": [
        "plt.figure(figsize=(10,6))\n",
        "rarity_distribution.plot(kind='pie', autopct='%1.1f%%', legend=True)\n",
        "plt.title('Distribution of Card Rarity')\n",
        "plt.ylabel('')\n",
        "plt.show()"
      ],
      "metadata": {
        "colab": {
          "base_uri": "https://localhost:8080/",
          "height": 521
        },
        "id": "oRP5eJeqOSLM",
        "outputId": "52d7c65e-d9a4-4b1f-93a9-8f331dede9da"
      },
      "execution_count": 14,
      "outputs": [
        {
          "output_type": "display_data",
          "data": {
            "text/plain": [
              "<Figure size 1000x600 with 1 Axes>"
            ],
            "image/png": "[encoded data removed]"
          },
          "metadata": {}
        }
      ]
    },
    {
      "cell_type": "code",
      "source": [
        "plt.figure(figsize=(10,6))\n",
        "type_distribution.plot(kind='pie', autopct='%1.1f%%')\n",
        "plt.title('Distribution of Card Types')\n",
        "plt.ylabel('')\n",
        "plt.show()"
      ],
      "metadata": {
        "colab": {
          "base_uri": "https://localhost:8080/",
          "height": 521
        },
        "id": "bdgJ44VuPcFb",
        "outputId": "3a33f572-8138-4aa8-a224-674cdef2f0f8"
      },
      "execution_count": 15,
      "outputs": [
        {
          "output_type": "display_data",
          "data": {
            "text/plain": [
              "<Figure size 1000x600 with 1 Axes>"
            ],
            "image/png": "[encoded data removed]"
          },
          "metadata": {}
        }
      ]
    },
    {
      "cell_type": "code",
      "source": [
        "heatmap_data = df_cleaned.pivot_table(index='Rarity', columns='Max Level', values='Character', aggfunc='count', fill_value=0)\n",
        "\n",
        "plt.figure(figsize=(10, 6))\n",
        "sns.heatmap(heatmap_data, annot=True, fmt='d', linewidths=1)\n",
        "\n",
        "plt.title('Heatmap of Rarity vs Max Level')\n",
        "plt.xlabel('Max Level')\n",
        "plt.ylabel('Rarity')\n",
        "plt.tight_layout()\n",
        "\n",
        "plt.show()"
      ],
      "metadata": {
        "colab": {
          "base_uri": "https://localhost:8080/",
          "height": 607
        },
        "id": "hAYuY5iQPsU7",
        "outputId": "9ab4d7ef-c905-47b3-cb09-bb995ecce780"
      },
      "execution_count": 162,
      "outputs": [
        {
          "output_type": "display_data",
          "data": {
            "text/plain": [
              "<Figure size 1000x600 with 2 Axes>"
            ],
            "image/png": "[encoded data removed]"
          },
          "metadata": {}
        }
      ]
    },
    {
      "cell_type": "code",
      "source": [
        "df_cleaned['JP Release Year'] = df_cleaned['JP Release Date'].dt.year\n",
        "\n",
        "average_delay_by_year = df_cleaned.groupby('JP Release Year')['Release Delay'].mean()\n",
        "\n",
        "plt.figure(figsize=(10, 6))\n",
        "plt.plot(average_delay_by_year.index, average_delay_by_year.values, marker='o', color='blue')\n",
        "plt.title('Average Release Delay Over Time (JP to Global)')\n",
        "plt.xlabel('JP Release Year')\n",
        "plt.ylabel('Average Delay (days)')\n",
        "plt.grid(alpha=0.5)\n",
        "plt.tight_layout()\n",
        "plt.show()\n"
      ],
      "metadata": {
        "id": "IUJYQxtqQP5i",
        "colab": {
          "base_uri": "https://localhost:8080/",
          "height": 607
        },
        "outputId": "417f93d3-1e21-4875-bae2-4ed7118adf77"
      },
      "execution_count": 151,
      "outputs": [
        {
          "output_type": "display_data",
          "data": {
            "text/plain": [
              "<Figure size 1000x600 with 1 Axes>"
            ],
            "image/png": "[encoded data removed]"
          },
          "metadata": {}
        }
      ]
    },
    {
      "cell_type": "markdown",
      "source": [
        "Now comes the fun part of watching machine learning get things wrong because I'm not nearly experienced enough to use a more advanced model :D"
      ],
      "metadata": {
        "id": "HXzjbiFO3t6-"
      }
    },
    {
      "cell_type": "code",
      "source": [
        "from sklearn.model_selection import train_test_split\n",
        "from sklearn.linear_model import LinearRegression\n",
        "from sklearn.metrics import mean_squared_error\n",
        "\n",
        "average_delay_by_year = df_cleaned.groupby('JP Release Year')['Release Delay'].mean().reset_index()\n",
        "\n",
        "X = average_delay_by_year[['JP Release Year']]\n",
        "y = average_delay_by_year['Release Delay']\n",
        "\n",
        "X_train, X_test, y_train, y_test = train_test_split(X, y, test_size=0.12, random_state=19)\n",
        "\n",
        "model = LinearRegression()\n",
        "model.fit(X_train, y_train)\n",
        "y_pred = model.predict(X_test)\n",
        "\n",
        "print(f'Mean Squared Error: {mean_squared_error(y_test, y_pred)}')"
      ],
      "metadata": {
        "colab": {
          "base_uri": "https://localhost:8080/"
        },
        "id": "GN5vz3rhUr09",
        "outputId": "34abab48-22db-44e7-98a2-16be105d1ff8"
      },
      "execution_count": 145,
      "outputs": [
        {
          "output_type": "stream",
          "name": "stdout",
          "text": [
            "Mean Squared Error: 42.52125455047567\n"
          ]
        }
      ]
    },
    {
      "cell_type": "markdown",
      "source": [
        "Do a bit of fiddling with test size and the random state to lower the MSE and..."
      ],
      "metadata": {
        "id": "5yZngDqW4Bf7"
      }
    },
    {
      "cell_type": "code",
      "source": [
        "future_years = pd.DataFrame({'JP Release Year': [2023, 2024, 2025, 2026, 2027, 2028, 2029, 2030]})\n",
        "\n",
        "future_predictions = model.predict(future_years)\n",
        "\n",
        "for year, delay in zip(future_years['JP Release Year'], future_predictions):\n",
        "    print(f\"Predicted release delay for {year}: {delay}\")\n"
      ],
      "metadata": {
        "colab": {
          "base_uri": "https://localhost:8080/"
        },
        "id": "2mlCv94aynRN",
        "outputId": "1ed4e289-4120-44ae-cbab-c5ca8cced066"
      },
      "execution_count": 134,
      "outputs": [
        {
          "output_type": "stream",
          "name": "stdout",
          "text": [
            "Predicted release delay for 2023: 51.823864668851456\n",
            "Predicted release delay for 2024: 36.69395400580106\n",
            "Predicted release delay for 2025: 21.564043342754303\n",
            "Predicted release delay for 2026: 6.434132679703907\n",
            "Predicted release delay for 2027: -8.69577798334285\n",
            "Predicted release delay for 2028: -23.825688646393246\n",
            "Predicted release delay for 2029: -38.955599309440004\n",
            "Predicted release delay for 2030: -54.0855099724904\n"
          ]
        }
      ]
    },
    {
      "cell_type": "markdown",
      "source": [
        "Yep. Dum. Bandai would never allow the Global server to get ahead of JP... I will note however that if we ignore 2027 onward, the game is actually \"currently\" syncing the servers. So it's not too far off in its predictions; it's only off by about a year or so which in my book is acceptable."
      ],
      "metadata": {
        "id": "sm6UJegz4PxK"
      }
    }
  ]
}